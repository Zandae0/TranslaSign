{
  "nbformat": 4,
  "nbformat_minor": 0,
  "metadata": {
    "colab": {
      "provenance": []
    },
    "kernelspec": {
      "name": "python3",
      "display_name": "Python 3"
    },
    "language_info": {
      "name": "python"
    }
  },
  "cells": [
    {
      "cell_type": "markdown",
      "source": [
        "# TensorFlow.js Conversion and Archiving Workflow\n",
        "\n",
        "This notebook guides you through the process of converting a Keras model to TensorFlow.js format and archiving it into a zip file. The steps involved are installing the necessary library, converting the model, and creating a zip archive of the converted files."
      ],
      "metadata": {
        "id": "nC39_jAf-E3e"
      }
    },
    {
      "cell_type": "markdown",
      "source": [
        "###1. Tensorflowjs Installations\n",
        "This command installs the tensorflowjs library, which is required for converting TensorFlow models into the TensorFlow.js format."
      ],
      "metadata": {
        "id": "_F9cxvcf6Taf"
      }
    },
    {
      "cell_type": "code",
      "execution_count": null,
      "metadata": {
        "id": "L-00wwk_6MRa"
      },
      "outputs": [],
      "source": [
        "!pip install tensorflowjs"
      ]
    },
    {
      "cell_type": "markdown",
      "source": [
        "###2. Convert Keras Model to TensorFlow.js Format\n",
        "\n",
        "Once TensorFlow.js is installed, you can convert your Keras model to a format suitable for TensorFlow.js using the tensorflowjs_converter tool."
      ],
      "metadata": {
        "id": "j7TlAW787lnS"
      }
    },
    {
      "cell_type": "code",
      "source": [
        "!tensorflowjs_converter --input_format keras /content/VGG16.h5 VGG16_with_weights"
      ],
      "metadata": {
        "id": "G_Gs-rhW7vEt"
      },
      "execution_count": null,
      "outputs": []
    },
    {
      "cell_type": "markdown",
      "source": [
        "* `--input_format keras`: Specifies the input format of the model (Keras in this case)\n",
        "* `/content/VGG16NewModel.h5`: Path to the input Keras model file\n",
        "* `VGG16NewModel_with_weights`: Path where the converted TensorFlow.js files will be saved.\n"
      ],
      "metadata": {
        "id": "UU8VYScF7yXn"
      }
    },
    {
      "cell_type": "markdown",
      "source": [
        "###3. Create a Zip Archive of the Converted Model\n",
        "\n",
        "To make it easier to handle and distribute the converted model, you can archive the output folder into a zip file. This step involves importing the shutil module and using it to create a zip archive.\n"
      ],
      "metadata": {
        "id": "0-5CPhaP8eQG"
      }
    },
    {
      "cell_type": "code",
      "source": [
        "import shutil\n",
        "\n",
        "# Paths\n",
        "folder_to_zip = '/content/VGG16_with_weights'  # Update with your folder path\n",
        "output_zip_file = '/content/VGG16_with_weights.zip'  # Output zip file path\n",
        "\n",
        "# Create zip\n",
        "shutil.make_archive(output_zip_file.replace('.zip', ''), 'zip', folder_to_zip)\n",
        "print(f\"Folder {folder_to_zip} zipped as {output_zip_file}\")\n"
      ],
      "metadata": {
        "id": "A49dh4DB8oYv"
      },
      "execution_count": null,
      "outputs": []
    },
    {
      "cell_type": "markdown",
      "source": [
        "* `folder_to_zip`: The path to the folder containing the TensorFlow.js model files.\n",
        "* `output_zip_file`: The desired path and name for the output zip file.\n",
        "\n",
        "The `shutil.make_archive` function is used to create a zip archive of the specified folder. The output path is adjusted to remove the `.zip` extension before calling the function."
      ],
      "metadata": {
        "id": "A_cL3zQR8vqG"
      }
    }
  ]
}